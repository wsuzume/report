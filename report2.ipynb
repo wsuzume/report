{
 "cells": [
  {
   "cell_type": "markdown",
   "metadata": {},
   "source": [
    "# パターン認識論レポート課題２    B4TB2047 小倉 康睦"
   ]
  },
  {
   "cell_type": "code",
   "execution_count": 1,
   "metadata": {
    "collapsed": true
   },
   "outputs": [],
   "source": [
    "%matplotlib inline\n",
    "\n",
    "import numpy as np\n",
    "import scipy.linalg as la\n",
    "from itertools import product\n",
    "from matplotlib import pyplot as plt"
   ]
  },
  {
   "cell_type": "markdown",
   "metadata": {},
   "source": [
    "# 1. 判別評価基準 (ユークリッド・類似度・重みつきユークリッド距離)"
   ]
  },
  {
   "cell_type": "markdown",
   "metadata": {},
   "source": [
    "## ユークリッド距離"
   ]
  },
  {
   "cell_type": "code",
   "execution_count": 2,
   "metadata": {
    "collapsed": true
   },
   "outputs": [],
   "source": [
    "def euclid(class1, class2, class3, class4, test):\n",
    "    met = np.zeros((test.shape[0], 4))\n",
    "    result = np.zeros(test.shape[0], dtype='int')\n",
    "\n",
    "    mean1 = np.mean(class1, axis=0)\n",
    "    mean2 = np.mean(class2, axis=0)\n",
    "    mean3 = np.mean(class3, axis=0)\n",
    "    mean4 = np.mean(class4, axis=0)\n",
    "    for k, p_t in enumerate(test):\n",
    "        min_dist1 = np.linalg.norm(mean1 - p_t)\n",
    "        min_dist2 = np.linalg.norm(mean2 - p_t)\n",
    "        min_dist3 = np.linalg.norm(mean3 - p_t)\n",
    "        min_dist4 = np.linalg.norm(mean4 - p_t)\n",
    "        met[k][0] = min_dist1\n",
    "        met[k][1] = min_dist2\n",
    "        met[k][2] = min_dist3\n",
    "        met[k][3] = min_dist4\n",
    "        result[k] = np.argmin(met[k]) + 1\n",
    "    return met, result"
   ]
  },
  {
   "cell_type": "markdown",
   "metadata": {},
   "source": [
    "## 類似度（コサイン類似度）"
   ]
  },
  {
   "cell_type": "code",
   "execution_count": 3,
   "metadata": {
    "collapsed": true
   },
   "outputs": [],
   "source": [
    "def similarity(class1, class2, class3, class4, test):\n",
    "    met = np.zeros((test.shape[0], 4))\n",
    "    result = np.zeros(test.shape[0], dtype='int')\n",
    "\n",
    "    mean1 = np.mean(class1, axis=0)\n",
    "    mean2 = np.mean(class2, axis=0)\n",
    "    mean3 = np.mean(class3, axis=0)\n",
    "    mean4 = np.mean(class4, axis=0)\n",
    "    for k, p_t in enumerate(test):\n",
    "        min_dist1 = p_t.dot(mean1) / (np.linalg.norm(p_t) * np.linalg.norm(mean1))\n",
    "        min_dist2 = p_t.dot(mean2) / (np.linalg.norm(p_t) * np.linalg.norm(mean2))\n",
    "        min_dist3 = p_t.dot(mean3) / (np.linalg.norm(p_t) * np.linalg.norm(mean3))\n",
    "        min_dist4 = p_t.dot(mean4) / (np.linalg.norm(p_t) * np.linalg.norm(mean4))\n",
    "        met[k][0] = min_dist1\n",
    "        met[k][1] = min_dist2\n",
    "        met[k][2] = min_dist3\n",
    "        met[k][3] = min_dist4\n",
    "        result[k] = np.argmax(met[k]) + 1\n",
    "    return met, result"
   ]
  },
  {
   "cell_type": "markdown",
   "metadata": {},
   "source": [
    "## 重み付きユークリッド距離\n",
    "\n",
    "### 重み付きユークリッド距離の尺度は行列$W = diag(w)$によって定まる線形変換$W^{\\frac{1}{2}}$によってデータを写像した空間では通常のユークリッド距離と等価になる。"
   ]
  },
  {
   "cell_type": "code",
   "execution_count": 4,
   "metadata": {
    "collapsed": true
   },
   "outputs": [],
   "source": [
    "def weighted_euclid(w, class1, class2, class3, class4, test):\n",
    "    W = np.diag(np.sqrt(w))\n",
    "\n",
    "    met = np.zeros((test.shape[0], 4))\n",
    "    result = np.zeros(test.shape[0], dtype='int')\n",
    "\n",
    "    mean1 = np.mean(class1, axis=0)\n",
    "    mean2 = np.mean(class2, axis=0)\n",
    "    mean3 = np.mean(class3, axis=0)\n",
    "    mean4 = np.mean(class4, axis=0)\n",
    "    for k, p_t in enumerate(test):\n",
    "        min_dist1 = np.linalg.norm(W.dot(mean1 - p_t))\n",
    "        min_dist2 = np.linalg.norm(W.dot(mean2 - p_t))\n",
    "        min_dist3 = np.linalg.norm(W.dot(mean3 - p_t))\n",
    "        min_dist4 = np.linalg.norm(W.dot(mean4 - p_t))\n",
    "        met[k][0] = min_dist1\n",
    "        met[k][1] = min_dist2\n",
    "        met[k][2] = min_dist3\n",
    "        met[k][3] = min_dist4\n",
    "        result[k] = np.argmin(met[k]) + 1\n",
    "    return met, result"
   ]
  },
  {
   "cell_type": "code",
   "execution_count": 5,
   "metadata": {
    "collapsed": true
   },
   "outputs": [],
   "source": [
    "# datファイルの読み込み\n",
    "def read_table(path):\n",
    "    with open(path) as f:\n",
    "        lines = f.readlines()\n",
    "    \n",
    "    buf = []\n",
    "    for line in lines:\n",
    "        buf.append(list(map(float, line.split())))\n",
    "        \n",
    "    return np.array(buf)\n",
    "\n",
    "def read_test_table(path):\n",
    "    with open(path) as f:\n",
    "        lines = f.readlines()\n",
    "    \n",
    "    buf = []\n",
    "    label = []\n",
    "    for line in lines:\n",
    "        vals = line.split()\n",
    "        if len(vals) != 257:\n",
    "            break\n",
    "        buf.append(list(map(float, vals[:256])))\n",
    "        label.append(vals[256])\n",
    "        \n",
    "    return (np.array(buf), np.array(label, dtype=np.int64))\n",
    "\n",
    "# 結果の出力\n",
    "def print_result(met, result, test, label, print_all=True, print_rate=True, output_path=None):\n",
    "    buf = []\n",
    "    buf.append('NUM    MET1    MET2   MET3   MET4   RES   ANS  o/x')\n",
    "    buf.append('--------------------------------------------------')\n",
    "    template = '{:>3d}   {:5.2f}   {:5.2f}   {:5.2f}   {:5.2f}   {:>3d}   {:>3d}    {:1s} '\n",
    "    correct = 0\n",
    "    for k in range(len(result)):\n",
    "        if result[k] == label[k]:\n",
    "            c = 'o'\n",
    "            correct += 1\n",
    "        else:\n",
    "            c = 'x'\n",
    "        buf.append(template.format(k+1, met[k][0], met[k][1], met[k][2], met[k][3], result[k], label[k], c))\n",
    "    recog_rate = correct / test.shape[0] * 100\n",
    "    rate_str = ('------- recog. rate = {:4.2f} --------'.format(recog_rate))\n",
    "    buf.append(rate_str)\n",
    "    \n",
    "    if output_path is not None:\n",
    "        with open(output_path, 'w') as f:\n",
    "            for line in buf:\n",
    "                f.write(line)\n",
    "                f.write('\\n')\n",
    "    \n",
    "    if print_all:\n",
    "        for line in buf:\n",
    "            print(line)\n",
    "    else:\n",
    "        if print_rate:\n",
    "            print(rate_str)\n",
    "    \n",
    "    return recog_rate"
   ]
  },
  {
   "cell_type": "markdown",
   "metadata": {},
   "source": [
    "## 文字データの読込み"
   ]
  },
  {
   "cell_type": "code",
   "execution_count": 6,
   "metadata": {},
   "outputs": [
    {
     "name": "stdout",
     "output_type": "stream",
     "text": [
      "(180, 256)\n",
      "(180, 256)\n",
      "(180, 256)\n",
      "(180, 256)\n",
      "(80, 256)\n"
     ]
    }
   ],
   "source": [
    "moji_a = read_table('data2/moji_a.dat')\n",
    "moji_ka = read_table('data2/moji_ka.dat')\n",
    "moji_ba = read_table('data2/moji_ba.dat')\n",
    "moji_pa = read_table('data2/moji_pa.dat')\n",
    "moji_test, moji_test_label = read_test_table('data2/moji_test.dat')\n",
    "\n",
    "print(moji_a.shape)\n",
    "print(moji_ka.shape)\n",
    "print(moji_ba.shape)\n",
    "print(moji_pa.shape)\n",
    "print(moji_test.shape)"
   ]
  },
  {
   "cell_type": "markdown",
   "metadata": {},
   "source": [
    "## (a) ユークリッドと類似度による文字画像認識プログラムを作成・実行し、その結果を認識正誤表にまとめ、認識率を求めよ\n",
    "\n",
    "## (c) [発展課題]重みつきユークリッドによる文字画像認識プログラムを作成・実行し、その結果を認識 正誤表にまとめ、認識率を求めよ。"
   ]
  },
  {
   "cell_type": "markdown",
   "metadata": {},
   "source": [
    "## ユークリッド距離"
   ]
  },
  {
   "cell_type": "code",
   "execution_count": 7,
   "metadata": {
    "scrolled": false
   },
   "outputs": [
    {
     "name": "stdout",
     "output_type": "stream",
     "text": [
      "NUM    MET1    MET2   MET3   MET4   RES   ANS  o/x\n",
      "--------------------------------------------------\n",
      "  1    5.23    9.50    7.99    9.77     1     1    o \n",
      "  2    7.48    8.89    8.40    9.16     1     1    o \n",
      "  3    6.31    9.01    7.91    9.23     1     1    o \n",
      "  4    5.54    9.09    8.08    9.33     1     1    o \n",
      "  5    6.16    9.09    7.53    9.37     1     1    o \n",
      "  6    6.28    9.24    8.12    9.42     1     1    o \n",
      "  7    5.93    9.25    8.24    9.51     1     1    o \n",
      "  8    5.60    9.16    8.31    9.39     1     1    o \n",
      "  9    5.48    9.08    7.67    9.41     1     1    o \n",
      " 10    5.25    9.06    7.89    9.35     1     1    o \n",
      " 11    6.83    9.71    8.31    9.89     1     1    o \n",
      " 12    6.65    9.53    7.67    9.71     1     1    o \n",
      " 13    5.91    8.92    7.40    9.15     1     1    o \n",
      " 14    6.17    8.30    7.53    8.58     1     1    o \n",
      " 15    6.17    8.83    8.10    8.94     1     1    o \n",
      " 16    7.02    9.41    7.88    9.66     1     1    o \n",
      " 17    5.98    9.51    8.14    9.75     1     1    o \n",
      " 18    5.56    9.30    8.16    9.59     1     1    o \n",
      " 19    5.94    9.33    8.03    9.59     1     1    o \n",
      " 20    5.26    9.36    7.38    9.65     1     1    o \n",
      " 21    9.27    4.75    7.84    4.84     2     2    o \n",
      " 22    8.88    6.03    8.10    6.23     2     2    o \n",
      " 23    8.96    5.63    8.16    5.98     2     2    o \n",
      " 24    8.83    5.88    7.41    6.26     2     2    o \n",
      " 25    8.88    5.06    7.39    5.37     2     2    o \n",
      " 26    8.47    6.19    7.41    6.37     2     2    o \n",
      " 27    8.72    6.40    7.70    6.48     2     2    o \n",
      " 28    8.76    6.69    7.90    6.37     4     2    x \n",
      " 29    8.94    6.13    8.01    6.10     4     2    x \n",
      " 30    8.88    6.19    6.84    6.17     4     2    x \n",
      " 31    8.89    7.48    7.80    7.62     2     2    o \n",
      " 32    9.49    6.36    8.19    6.22     4     2    x \n",
      " 33    9.21    6.88    7.60    7.00     2     2    o \n",
      " 34    8.74    5.54    8.49    5.64     2     2    o \n",
      " 35    9.45    6.21    7.62    6.29     2     2    o \n",
      " 36    8.87    5.43    7.87    5.40     4     2    x \n",
      " 37    9.36    6.07    8.72    6.17     2     2    o \n",
      " 38    8.89    5.55    7.80    5.66     2     2    o \n",
      " 39    8.33    4.96    7.44    5.31     2     2    o \n",
      " 40    9.39    7.05    8.25    7.23     2     2    o \n",
      " 41    8.83    7.53    6.34    7.54     3     3    o \n",
      " 42    7.57    7.54    5.21    7.73     3     3    o \n",
      " 43    8.14    8.41    6.49    8.48     3     3    o \n",
      " 44    6.69    8.18    6.26    8.46     3     3    o \n",
      " 45    8.74    8.04    5.84    8.16     3     3    o \n",
      " 46    8.71    7.92    5.96    7.89     3     3    o \n",
      " 47    7.46    8.54    6.29    8.71     3     3    o \n",
      " 48    6.87    8.76    6.99    8.78     1     3    x \n",
      " 49    8.96    7.80    6.88    7.93     3     3    o \n",
      " 50    7.96    8.16    5.60    8.29     3     3    o \n",
      " 51    8.17    8.60    6.73    8.80     3     3    o \n",
      " 52    8.33    7.52    6.71    7.43     3     3    o \n",
      " 53    8.31    8.75    6.65    8.98     3     3    o \n",
      " 54    8.53    8.29    6.90    8.43     3     3    o \n",
      " 55    8.47    8.11    6.12    8.26     3     3    o \n",
      " 56    7.41    8.33    6.12    8.59     3     3    o \n",
      " 57    8.18    8.19    5.78    8.32     3     3    o \n",
      " 58    7.56    8.67    6.49    8.90     3     3    o \n",
      " 59    7.23    8.56    5.96    8.80     3     3    o \n",
      " 60    8.24    7.37    5.51    7.58     3     3    o \n",
      " 61    9.29    5.05    8.06    4.91     4     4    o \n",
      " 62    9.31    6.82    8.55    6.70     4     4    o \n",
      " 63    9.26    5.67    7.94    5.69     2     4    x \n",
      " 64    9.02    6.70    7.50    6.56     4     4    o \n",
      " 65    9.09    6.12    7.65    5.90     4     4    o \n",
      " 66    9.01    5.88    7.80    5.43     4     4    o \n",
      " 67    9.19    6.09    8.36    6.07     4     4    o \n",
      " 68    9.08    6.33    8.12    6.06     4     4    o \n",
      " 69    9.19    5.80    8.44    5.61     4     4    o \n",
      " 70    9.29    5.68    7.80    5.51     4     4    o \n",
      " 71    8.72    7.30    7.88    7.42     2     4    x \n",
      " 72    8.91    7.27    7.50    6.97     4     4    o \n",
      " 73    9.36    7.58    7.90    7.36     4     4    o \n",
      " 74    9.26    5.85    8.46    5.61     4     4    o \n",
      " 75    9.63    6.70    7.94    6.53     4     4    o \n",
      " 76    9.16    6.42    8.29    6.30     4     4    o \n",
      " 77    9.19    6.82    8.45    6.98     2     4    x \n",
      " 78    9.43    4.84    8.09    4.70     4     4    o \n",
      " 79    8.85    5.24    8.25    5.11     4     4    o \n",
      " 80    9.68    8.80    8.72    8.63     4     4    o \n",
      "------- recog. rate = 88.75 --------\n"
     ]
    },
    {
     "data": {
      "text/plain": [
       "88.75"
      ]
     },
     "execution_count": 7,
     "metadata": {},
     "output_type": "execute_result"
    }
   ],
   "source": [
    "met_euclid, result_euclid = euclid(moji_a, moji_ba, moji_ka, moji_pa, moji_test)\n",
    "print_result(met_euclid, result_euclid, moji_test, moji_test_label, print_all=True,\n",
    "             output_path='result/moji_euclid.txt')"
   ]
  },
  {
   "cell_type": "markdown",
   "metadata": {},
   "source": [
    "## 類似度"
   ]
  },
  {
   "cell_type": "code",
   "execution_count": 8,
   "metadata": {
    "scrolled": false
   },
   "outputs": [
    {
     "name": "stdout",
     "output_type": "stream",
     "text": [
      "NUM    MET1    MET2   MET3   MET4   RES   ANS  o/x\n",
      "--------------------------------------------------\n",
      "  1    0.86    0.42    0.61    0.39     1     1    o \n",
      "  2    0.67    0.50    0.56    0.46     1     1    o \n",
      "  3    0.73    0.39    0.54    0.36     1     1    o \n",
      "  4    0.81    0.41    0.54    0.38     1     1    o \n",
      "  5    0.76    0.41    0.62    0.38     1     1    o \n",
      "  6    0.75    0.38    0.53    0.36     1     1    o \n",
      "  7    0.83    0.48    0.61    0.45     1     1    o \n",
      "  8    0.80    0.39    0.50    0.36     1     1    o \n",
      "  9    0.81    0.40    0.59    0.36     1     1    o \n",
      " 10    0.84    0.43    0.58    0.40     1     1    o \n",
      " 11    0.75    0.42    0.60    0.40     1     1    o \n",
      " 12    0.74    0.40    0.64    0.38     1     1    o \n",
      " 13    0.80    0.46    0.65    0.44     1     1    o \n",
      " 14    0.70    0.39    0.50    0.36     1     1    o \n",
      " 15    0.77    0.47    0.57    0.46     1     1    o \n",
      " 16    0.75    0.48    0.67    0.45     1     1    o \n",
      " 17    0.81    0.42    0.60    0.39     1     1    o \n",
      " 18    0.81    0.38    0.53    0.35     1     1    o \n",
      " 19    0.77    0.36    0.54    0.33     1     1    o \n",
      " 20    0.85    0.42    0.67    0.39     1     1    o \n",
      " 21    0.41    0.87    0.56    0.86     2     2    o \n",
      " 22    0.47    0.77    0.53    0.75     2     2    o \n",
      " 23    0.42    0.78    0.49    0.75     2     2    o \n",
      " 24    0.44    0.75    0.58    0.72     2     2    o \n",
      " 25    0.38    0.80    0.53    0.77     2     2    o \n",
      " 26    0.41    0.66    0.50    0.65     2     2    o \n",
      " 27    0.37    0.63    0.45    0.62     2     2    o \n",
      " 28    0.44    0.66    0.51    0.70     4     2    x \n",
      " 29    0.47    0.77    0.56    0.77     4     2    x \n",
      " 30    0.38    0.68    0.60    0.69     4     2    x \n",
      " 31    0.45    0.59    0.55    0.58     2     2    o \n",
      " 32    0.38    0.73    0.51    0.74     4     2    x \n",
      " 33    0.41    0.66    0.58    0.65     2     2    o \n",
      " 34    0.43    0.77    0.41    0.76     2     2    o \n",
      " 35    0.40    0.76    0.60    0.75     2     2    o \n",
      " 36    0.38    0.76    0.47    0.77     4     2    x \n",
      " 37    0.44    0.79    0.48    0.78     2     2    o \n",
      " 38    0.42    0.78    0.52    0.77     2     2    o \n",
      " 39    0.40    0.77    0.46    0.74     2     2    o \n",
      " 40    0.46    0.72    0.58    0.70     2     2    o \n",
      " 41    0.39    0.52    0.67    0.53     3     3    o \n",
      " 42    0.54    0.50    0.77    0.48     3     3    o \n",
      " 43    0.47    0.38    0.64    0.38     3     3    o \n",
      " 44    0.68    0.48    0.71    0.45     3     3    o \n",
      " 45    0.41    0.45    0.72    0.44     3     3    o \n",
      " 46    0.43    0.49    0.73    0.50     3     3    o \n",
      " 47    0.63    0.48    0.75    0.47     3     3    o \n",
      " 48    0.71    0.48    0.70    0.49     1     3    x \n",
      " 49    0.43    0.54    0.65    0.53     3     3    o \n",
      " 50    0.55    0.50    0.79    0.49     3     3    o \n",
      " 51    0.58    0.50    0.73    0.48     3     3    o \n",
      " 52    0.43    0.49    0.59    0.51     3     3    o \n",
      " 53    0.59    0.51    0.76    0.49     3     3    o \n",
      " 54    0.50    0.50    0.67    0.49     3     3    o \n",
      " 55    0.43    0.42    0.68    0.41     3     3    o \n",
      " 56    0.62    0.48    0.74    0.45     3     3    o \n",
      " 57    0.47    0.42    0.72    0.41     3     3    o \n",
      " 58    0.62    0.45    0.72    0.43     3     3    o \n",
      " 59    0.62    0.41    0.73    0.39     3     3    o \n",
      " 60    0.49    0.56    0.77    0.54     3     3    o \n",
      " 61    0.44    0.87    0.57    0.88     4     4    o \n",
      " 62    0.40    0.68    0.46    0.69     4     4    o \n",
      " 63    0.37    0.77    0.50    0.77     2     4    x \n",
      " 64    0.46    0.71    0.62    0.72     4     4    o \n",
      " 65    0.41    0.73    0.55    0.76     4     4    o \n",
      " 66    0.36    0.71    0.47    0.76     4     4    o \n",
      " 67    0.36    0.71    0.42    0.71     4     4    o \n",
      " 68    0.44    0.73    0.52    0.76     4     4    o \n",
      " 69    0.47    0.82    0.53    0.83     4     4    o \n",
      " 70    0.36    0.76    0.51    0.78     4     4    o \n",
      " 71    0.44    0.59    0.51    0.58     2     4    x \n",
      " 72    0.32    0.49    0.45    0.54     4     4    o \n",
      " 73    0.42    0.62    0.58    0.65     4     4    o \n",
      " 74    0.42    0.79    0.49    0.81     4     4    o \n",
      " 75    0.40    0.73    0.59    0.74     4     4    o \n",
      " 76    0.39    0.69    0.46    0.71     4     4    o \n",
      " 77    0.48    0.73    0.54    0.71     2     4    x \n",
      " 78    0.40    0.87    0.53    0.88     4     4    o \n",
      " 79    0.43    0.81    0.47    0.82     4     4    o \n",
      " 80    0.37    0.45    0.46    0.48     4     4    o \n",
      "------- recog. rate = 88.75 --------\n"
     ]
    },
    {
     "data": {
      "text/plain": [
       "88.75"
      ]
     },
     "execution_count": 8,
     "metadata": {},
     "output_type": "execute_result"
    }
   ],
   "source": [
    "met_sim, result_sim = similarity(moji_a, moji_ba, moji_ka, moji_pa, moji_test)\n",
    "print_result(met_sim, result_sim, moji_test, moji_test_label, print_all=True,\n",
    "             output_path='result/moji_sim.txt')"
   ]
  },
  {
   "cell_type": "markdown",
   "metadata": {},
   "source": [
    "## 重み付きユークリッド距離"
   ]
  },
  {
   "cell_type": "markdown",
   "metadata": {},
   "source": [
    "「ヒント：各次元の分散を・・・すればよい」とあるので、「・・・」に入るのは「正規化」であるとして実装を進める。文字画像においては各画素はその近傍と強い相関を持つ（すなわち、人間が読める文字が書かれている以上、空白と文字領域はある程度の面積をもって存在しており、したがって任意の画素は隣接する画素と同じような値を取りやすいということが高い確率で期待される）ので、一般に各次元間の共分散は大きな値を取る。その共分散を無視して分散を正規化することにどの程度の意義があるかは慎重に検討すべきことであるが、共分散を$0$にするような線形変換をかけることは主成分分析を行うことと同等であってこれは問題2で実装することと、重みをかける（すなわち対角行列をデータにかける）だけでは一般に共分散を0にするような線形変換は表現できないことを考慮して、比較のため今回は分散を正規化する。主成分分析を行って各次元を互いに独立な確率変数に変換したあとでその確率変数の分散を1に正規化するような方法も存在し、これは白色化と呼ばれている。"
   ]
  },
  {
   "cell_type": "code",
   "execution_count": 9,
   "metadata": {
    "scrolled": false
   },
   "outputs": [
    {
     "name": "stdout",
     "output_type": "stream",
     "text": [
      "[ 360.50139276  240.66945607  720.           90.88483146   23.51380814\n",
      "    8.71882105    6.20905547    6.91678692    9.59110699   14.39439439\n",
      "   16.36622301   22.19516378    8.34967742    4.97769231    4.28670796\n",
      "    6.34108698   90.88483146   72.91267606  360.50139276   72.91267606\n",
      "   12.33041159    6.27407255    4.88912395    5.21203335    6.30732492\n",
      "    8.08066933   10.00173883    7.2875725     4.69427543    4.42249863\n",
      "    4.12905284    4.20194805   26.71758877   26.71758877   33.71190414\n",
      "   24.23708975    8.14589857    4.88912395    4.15610273    4.17066804\n",
      "    4.62581873    4.86102764    6.24131944    5.1408143     4.05501943\n",
      "    4.39759087    4.48444633    4.06674208   10.70139535    8.64182692\n",
      "    9.59110699    8.01672474    4.99310371    4.14223531    4.01227679\n",
      "    3.99447527    3.99521513    4.26709749    5.65307125    5.62915924\n",
      "    4.13776566    4.23619521    4.64808081    4.52236811    6.48145134\n",
      "    4.75529101    5.88379705    5.80365251    4.69427543    3.99752896\n",
      "    4.18077271    4.23619521    4.35816272    4.0170403     4.56222295\n",
      "    5.38627212    4.55207344    4.5934339     5.55933805    6.51792909\n",
      "    4.5934339     4.17066804    5.53668449    5.55933805    4.12063901\n",
      "    4.20744642    5.24902661    4.47525848    4.52236811    4.55207344\n",
      "    3.99817731    4.68251384    5.1408143     5.47051178    7.09578376\n",
      "   11.67629015    4.24220075    4.0013913     5.49227635    5.32592593\n",
      "    4.04693595    4.20744642    4.19653207    4.01081575    4.61489089\n",
      "    5.60557005    4.02428501    5.36589411    5.19388789    5.00870777\n",
      "    6.7494133    11.52474454    4.16573456    3.99521513    6.37536946\n",
      "    6.41018339    4.20744642    4.01875543    4.23619521    4.44837809\n",
      "    4.24220075    5.51433228    4.17066804    6.87389624    6.37536946\n",
      "    4.71823476    4.87498941    7.38867321    4.08293964    4.13337166\n",
      "    6.87389624    4.93258759    4.05225791    4.18077271    4.79373281\n",
      "    4.90343358    4.03708932    5.32592593    4.63688152   11.99332777\n",
      "   14.15393028    6.14595576    4.35816272    4.73043605    4.07301338\n",
      "    4.00560202    4.82015661    4.23027579    4.15610273    4.39759087\n",
      "    4.42249863    4.23619521    4.3658444     4.76794842    4.69427543\n",
      "   17.04296296   38.86778287   12.33041159    4.39759087    4.39759087\n",
      "    4.00235032    4.23619521    4.16087963    4.34309876    4.55207344\n",
      "    4.28670796    4.0170403     4.14678105    4.91792066    4.80686376\n",
      "    4.07956122    7.44060367   30.99137931   11.09567901    4.70618182\n",
      "    4.42249863    4.03945192    4.43964186    4.044375      4.35058114\n",
      "    4.3658444     3.99447527    4.09715792    4.12063901    4.99310371\n",
      "    4.64808081    4.0282933     5.40691845   12.50706675    7.2875725\n",
      "    4.82015661    4.93258759    4.00445558    4.63688152    4.02237762\n",
      "    4.32123807    4.12063901    4.03945192    4.01380112    3.99456773\n",
      "    4.38949939    4.11252075    4.43964186    5.47051178    6.96040336\n",
      "    6.05473684    5.47051178    7.60220865    4.18594497    4.15140337\n",
      "    4.02053449    4.70618182    4.40578723    3.99447527    4.0418804\n",
      "    4.05501943    4.28670796    4.05501943    5.93914919    6.24131944\n",
      "    5.75206391    6.05473684    8.79749847   19.49169773    5.07310572\n",
      "    4.12905284    4.67089533    6.37536946    6.48145134    4.1911979\n",
      "    4.18594497    4.48444633    4.13337166    4.28670796    8.71882105\n",
      "    7.95402864    7.60220865   10.22295069   21.02339181   52.37555645\n",
      "    7.19          5.60557005    7.49348619   11.52474454   11.09567901\n",
      "    5.24902661    4.01227679    4.00808306    4.07301338    5.75206391\n",
      "   12.87793229   12.50706675   11.83241526   21.59249218   72.91267606\n",
      "   72.91267606]\n"
     ]
    }
   ],
   "source": [
    "all = np.concatenate([moji_a, moji_ba, moji_ka, moji_pa], axis=0)\n",
    "var_all = np.cov(all.T)\n",
    "\n",
    "w = np.zeros(256)\n",
    "for i in range(256):\n",
    "    w[i] = 1 / var_all[i][i]\n",
    "\n",
    "print(w)"
   ]
  },
  {
   "cell_type": "code",
   "execution_count": 10,
   "metadata": {
    "scrolled": false
   },
   "outputs": [
    {
     "name": "stdout",
     "output_type": "stream",
     "text": [
      "NUM    MET1    MET2   MET3   MET4   RES   ANS  o/x\n",
      "--------------------------------------------------\n",
      "  1   12.91   21.71   18.82   22.26     1     1    o \n",
      "  2   19.36   22.72   21.69   23.19     1     1    o \n",
      "  3   16.19   21.68   19.58   22.09     1     1    o \n",
      "  4   12.90   20.32   18.33   20.81     1     1    o \n",
      "  5   14.61   20.20   17.01   20.77     1     1    o \n",
      "  6   15.88   21.74   19.71   22.06     1     1    o \n",
      "  7   14.14   20.80   18.94   21.32     1     1    o \n",
      "  8   14.96   21.51   20.23   21.92     1     1    o \n",
      "  9   12.79   20.18   17.55   20.90     1     1    o \n",
      " 10   12.73   20.22   18.14   20.81     1     1    o \n",
      " 11   17.72   23.78   21.04   24.13     1     1    o \n",
      " 12   16.66   22.05   18.41   22.32     1     1    o \n",
      " 13   13.46   19.65   16.80   20.15     1     1    o \n",
      " 14   14.44   18.52   17.19   19.13     1     1    o \n",
      " 15   14.50   19.72   18.36   19.96     1     1    o \n",
      " 16   19.24   23.95   21.14   24.37     1     1    o \n",
      " 17   15.16   22.56   19.84   23.03     1     1    o \n",
      " 18   13.94   21.54   19.37   22.12     1     1    o \n",
      " 19   14.01   20.81   18.34   21.35     1     1    o \n",
      " 20   12.49   20.99   17.11   21.57     1     1    o \n",
      " 21   20.10   10.30   16.82   10.59     2     2    o \n",
      " 22   19.74   14.21   18.43   14.62     2     2    o \n",
      " 23   19.96   13.66   18.55   14.35     2     2    o \n",
      " 24   26.66   22.23   24.24   22.72     2     2    o \n",
      " 25   19.28   10.80   15.83   11.50     2     2    o \n",
      " 26   18.60   13.32   15.99   13.78     2     2    o \n",
      " 27   19.33   14.15   16.81   14.41     2     2    o \n",
      " 28   19.66   15.10   17.52   14.32     4     2    x \n",
      " 29   19.92   14.62   18.37   14.58     4     2    x \n",
      " 30   19.60   13.54   14.94   13.47     4     2    x \n",
      " 31   21.42   18.57   19.22   18.77     2     2    o \n",
      " 32   22.30   16.18   19.69   16.00     4     2    x \n",
      " 33   20.69   15.75   16.76   15.80     2     2    o \n",
      " 34   19.18   12.12   18.28   12.37     2     2    o \n",
      " 35   20.85   14.02   16.61   14.05     2     2    o \n",
      " 36   19.58   11.96   16.97   11.93     4     2    x \n",
      " 37   21.78   15.29   20.41   15.48     2     2    o \n",
      " 38   19.72   12.53   17.09   12.87     2     2    o \n",
      " 39   18.12   10.48   15.78   11.33     2     2    o \n",
      " 40   23.69   19.56   21.75   19.82     2     2    o \n",
      " 41   19.84   16.60   14.12   16.50     3     3    o \n",
      " 42   16.69   16.06   11.41   16.48     3     3    o \n",
      " 43   18.44   18.48   14.44   18.60     3     3    o \n",
      " 44   15.74   18.38   14.54   18.99     3     3    o \n",
      " 45   19.90   18.41   13.83   18.63     3     3    o \n",
      " 46   19.67   17.63   13.57   17.43     3     3    o \n",
      " 47   18.00   20.14   15.82   20.37     3     3    o \n",
      " 48   15.98   19.50   15.84   19.46     3     3    o \n",
      " 49   20.39   17.90   15.77   18.12     3     3    o \n",
      " 50   17.82   17.60   12.36   17.82     3     3    o \n",
      " 51   18.82   20.05   15.97   20.45     3     3    o \n",
      " 52   18.53   16.09   14.63   15.92     3     3    o \n",
      " 53   19.47   20.24   15.88   20.71     3     3    o \n",
      " 54   19.31   18.78   15.71   18.95     3     3    o \n",
      " 55   18.91   17.60   13.48   17.93     3     3    o \n",
      " 56   16.66   18.15   13.55   18.71     3     3    o \n",
      " 57   18.40   18.01   12.93   18.27     3     3    o \n",
      " 58   17.52   19.49   15.11   19.99     3     3    o \n",
      " 59   16.44   18.61   13.24   19.12     3     3    o \n",
      " 60   18.49   16.33   12.38   16.72     3     3    o \n",
      " 61   20.22   10.96   17.33   10.68     4     4    o \n",
      " 62   21.63   16.49   19.74   16.37     4     4    o \n",
      " 63   20.13   12.17   17.18   12.26     2     4    x \n",
      " 64   20.35   15.45   16.68   15.01     4     4    o \n",
      " 65   20.20   14.03   16.72   13.42     4     4    o \n",
      " 66   19.68   12.71   16.67   11.79     4     4    o \n",
      " 67   20.48   13.69   18.43   13.70     2     4    x \n",
      " 68   20.00   14.13   17.71   13.54     4     4    o \n",
      " 69   20.60   13.85   19.07   13.47     4     4    o \n",
      " 70   20.44   12.49   16.92   12.12     4     4    o \n",
      " 71   20.35   17.19   18.13   17.25     2     4    x \n",
      " 72   19.70   15.79   16.61   15.22     4     4    o \n",
      " 73   21.39   17.73   18.20   17.21     4     4    o \n",
      " 74   20.31   13.10   18.51   12.58     4     4    o \n",
      " 75   21.67   15.67   17.99   15.14     4     4    o \n",
      " 76   20.16   14.22   18.18   13.99     4     4    o \n",
      " 77   21.92   17.30   20.40   17.63     2     4    x \n",
      " 78   20.46   10.43   17.25   10.11     4     4    o \n",
      " 79   19.31   11.28   17.63   11.01     4     4    o \n",
      " 80   23.15   21.94   21.59   21.57     4     4    o \n",
      "------- recog. rate = 88.75 --------\n"
     ]
    },
    {
     "data": {
      "text/plain": [
       "88.75"
      ]
     },
     "execution_count": 10,
     "metadata": {},
     "output_type": "execute_result"
    }
   ],
   "source": [
    "met_weighted, result_weighted = weighted_euclid(w, moji_a, moji_ba, moji_ka, moji_pa, moji_test)\n",
    "print_result(met_weighted, result_weighted, moji_test, moji_test_label, print_all=True,\n",
    "             output_path='result/moji_weighted_euclid.txt')"
   ]
  },
  {
   "cell_type": "markdown",
   "metadata": {},
   "source": [
    "## (b) (a) の結果から文字画像データを対象とする際の各判別評価基準について考察せよ。"
   ]
  },
  {
   "cell_type": "markdown",
   "metadata": {},
   "source": [
    "## 考察\n",
    "ユークリッド距離、コサイン類似度、重み付きユークリッド距離のいずれを用いた場合も、識別率は88.75%となった。それぞれの手法が誤分類した文字を以下に示す。\n",
    "\n",
    "* ユークリッド距離: 28,29,30,32,36,48,63,71,77\n",
    "* コサイン類似度: 28,29,30,32,36,48,63,71,77\n",
    "* 重み付きユークリッド距離: 28,29,30,32,36,63,67,71,77\n",
    "\n",
    "ユークリッド距離とコサイン類似度はまったく同じ文字を誤分類しており、重み付きユークリッド距離は48番を正答した代わりに67番を誤分類した。誤分類した文字を以下に表示する。"
   ]
  },
  {
   "cell_type": "code",
   "execution_count": 11,
   "metadata": {
    "scrolled": false
   },
   "outputs": [
    {
     "data": {
      "image/png": "[encoded data removed]",
      "text/plain": [
       "<matplotlib.figure.Figure at 0x113b17a58>"
      ]
     },
     "metadata": {},
     "output_type": "display_data"
    }
   ],
   "source": [
    "idx = np.array([28,29,30,32,36,48,63,67,71,77]) - 1\n",
    "plt.figure(figsize=(16,8))\n",
    "for i, ix in enumerate(idx):\n",
    "    plt.subplot(2,5,i+1)\n",
    "    plt.imshow(moji_test[ix].reshape(16,16))\n",
    "plt.show()"
   ]
  },
  {
   "cell_type": "markdown",
   "metadata": {},
   "source": [
    "また、以下に各文字の平均を表示する。"
   ]
  },
  {
   "cell_type": "code",
   "execution_count": 12,
   "metadata": {},
   "outputs": [
    {
     "data": {
      "image/png": "[encoded data removed]",
      "text/plain": [
       "<matplotlib.figure.Figure at 0x1147560b8>"
      ]
     },
     "metadata": {},
     "output_type": "display_data"
    }
   ],
   "source": [
    "plt.figure(figsize=(16,8))\n",
    "plt.subplot(1,4,1)\n",
    "plt.imshow(np.mean(moji_a, axis=0).reshape(16,16))\n",
    "plt.subplot(1,4,2)\n",
    "plt.imshow(np.mean(moji_ba, axis=0).reshape(16,16))\n",
    "plt.subplot(1,4,3)\n",
    "plt.imshow(np.mean(moji_ka, axis=0).reshape(16,16))\n",
    "plt.subplot(1,4,4)\n",
    "plt.imshow(np.mean(moji_pa, axis=0).reshape(16,16))\n",
    "plt.show()"
   ]
  },
  {
   "cell_type": "markdown",
   "metadata": {},
   "source": [
    "誤分類した文字について、これらは人間が見ても一見「ぱ」と「ば」のどちらであるか区別が難しいものもいくつか含まれているので、これらはデータ自体（テストデータと教師データの取り方）の影響によって発生した誤分類であると考えられる。なぜならば、使用した距離尺度はいずれも文字の形状を特徴量として扱うようなモデルではなく、単に与えられた文字Aと文字Bの画素がいくつ重なっているかという尺度でしかないし、「ば」と「ぱ」のそれぞれの平均を見ても、濁点と半濁点は形状というよりは単に濃度の違いしかないからである。位置ずれを補正するような仕組みもモデルに組み込まれていないため、濁点、半濁点が生じる距離の差よりも、人間が手書きすることによって生じた位置のズレや歪みによる誤差のほうが大きければ、このような誤分類は必然的に発生する。\n",
    "\n",
    "重み付きユークリッド距離による判別評価基準は左下の「か」を正しく分類し（ユークリッド距離とコサイン類似度においてはいずれも「あ」であると認識した）、新たにひとつ「ぱ」を「か」であると誤分類したが、このふたつだけ見ても、どのような理由によってこの現象が起こったかは分からない。偶然発生した無意味なものかもしれないし、重み付けによって特徴的な画素の値が増幅された意味のあるものかもしれない（確かに「あ」と誤分類された「か」は「あ」の平均の値が大きい黄色の部分に大きく重なっている）。いずれにせよ高々80件のテストデータでひとつふたつ生じた違いを一般化して論じるべきではない。"
   ]
  },
  {
   "cell_type": "markdown",
   "metadata": {},
   "source": [
    "# 2. 判別分析 (LDA)・主成分分析 (PCA)"
   ]
  },
  {
   "cell_type": "markdown",
   "metadata": {},
   "source": [
    "レポート課題1では判別分析に対しては標本分散、主成分分析に対しては母分散の不偏推定量として分散を定義しており、今回も引き続きこの定義を踏襲します（理由はレポート課題1をご覧ください）。ただし今回は課題の設定上、未知のデータに対しても判別分析で求めた写像を適用する必要があるため、レポート課題1での解答とは異なり、テストデータは分けて写像を求めます。"
   ]
  },
  {
   "cell_type": "markdown",
   "metadata": {},
   "source": [
    "## (a) 講義で説明された判別分析・主成分分析それぞれによる文字画像認識プログラムを作成・実行し、 その結果を認識正誤表にまとめ、認識率を求めよ。"
   ]
  },
  {
   "cell_type": "markdown",
   "metadata": {},
   "source": [
    "## 判別分析"
   ]
  },
  {
   "cell_type": "code",
   "execution_count": 13,
   "metadata": {
    "collapsed": true
   },
   "outputs": [],
   "source": [
    "def lda(class1, class2, class3, class4):\n",
    "    all = np.concatenate([class1, class2, class3, class4], axis=0)\n",
    "    m = np.mean(all, axis=0)\n",
    "    m1 = np.mean(class1, axis=0)\n",
    "    m2 = np.mean(class2, axis=0)\n",
    "    m3 = np.mean(class3, axis=0)\n",
    "    m4 = np.mean(class4, axis=0)\n",
    "\n",
    "    c1 = class1 - m1\n",
    "    c2 = class2 - m2\n",
    "    c3 = class3 - m3\n",
    "    c4 = class4 - m4\n",
    "    cm1 = m1[:,np.newaxis] - m[:,np.newaxis]\n",
    "    cm2 = m2[:,np.newaxis] - m[:,np.newaxis]\n",
    "    cm3 = m3[:,np.newaxis] - m[:,np.newaxis]\n",
    "    cm4 = m4[:,np.newaxis] - m[:,np.newaxis]\n",
    "    \n",
    "    Cw = (c1.T.dot(c1) + c2.T.dot(c2) + c3.T.dot(c3) + c4.T.dot(c4)) / all.shape[0]\n",
    "    \n",
    "    Cb = (cm1.dot(cm1.T) + cm2.dot(cm2.T) + cm3.dot(cm3.T) + cm4.dot(cm4.T)) / all.shape[0]\n",
    "    \n",
    "    lam, V = la.eig(Cw, Cb)\n",
    "    return (m, lam, V)"
   ]
  },
  {
   "cell_type": "code",
   "execution_count": 14,
   "metadata": {
    "collapsed": true
   },
   "outputs": [],
   "source": [
    "def plot_lda(data, label):\n",
    "    plt.scatter(data[:,0][label==1], data[:,1][label==1], label='a')\n",
    "    plt.scatter(data[:,0][label==2], data[:,1][label==2], label='ba')\n",
    "    plt.scatter(data[:,0][label==3], data[:,1][label==3], label='ka')\n",
    "    plt.scatter(data[:,0][label==4], data[:,1][label==4], label='pa')\n",
    "    axis = plt.axis()\n",
    "    _, _, ymin, ymax = axis\n",
    "    plt.xlim(axis[:2])\n",
    "    plt.ylim(axis[2:])\n",
    "    plt.legend()\n",
    "    plt.title('LDA')"
   ]
  },
  {
   "cell_type": "code",
   "execution_count": 15,
   "metadata": {
    "scrolled": true
   },
   "outputs": [
    {
     "name": "stdout",
     "output_type": "stream",
     "text": [
      "(80, 256)\n",
      "(180, 256)\n",
      "(180, 256)\n",
      "(180, 256)\n",
      "(180, 256)\n"
     ]
    }
   ],
   "source": [
    "# LDAを行う直交行列を取得し座標変換\n",
    "m, _, X_lda = lda(moji_a, moji_ba, moji_ka, moji_pa)\n",
    "moji_test_lda = moji_test.dot(X_lda)\n",
    "moji_a_lda = moji_a.dot(X_lda)\n",
    "moji_ba_lda = moji_ba.dot(X_lda)\n",
    "moji_ka_lda = moji_ka.dot(X_lda)\n",
    "moji_pa_lda = moji_pa.dot(X_lda)\n",
    "print(moji_test_lda.shape)\n",
    "print(moji_a_lda.shape)\n",
    "print(moji_ba_lda.shape)\n",
    "print(moji_ka_lda.shape)\n",
    "print(moji_pa_lda.shape)"
   ]
  },
  {
   "cell_type": "code",
   "execution_count": 16,
   "metadata": {
    "scrolled": false
   },
   "outputs": [
    {
     "name": "stdout",
     "output_type": "stream",
     "text": [
      "NUM    MET1    MET2   MET3   MET4   RES   ANS  o/x\n",
      "--------------------------------------------------\n",
      "  1    5.23    5.90    5.49    5.97     1     1    o \n",
      "  2    7.12    7.46    7.35    7.57     1     1    o \n",
      "  3    5.91    6.50    6.21    6.57     1     1    o \n",
      "  4    5.38    5.97    5.66    6.02     1     1    o \n",
      "  5    5.92    6.37    6.06    6.43     1     1    o \n",
      "  6    6.19    6.85    6.38    6.91     1     1    o \n",
      "  7    5.66    6.22    5.99    6.28     1     1    o \n",
      "  8    5.36    5.96    5.72    6.02     1     1    o \n",
      "  9    5.86    6.36    6.12    6.44     1     1    o \n",
      " 10    5.41    5.97    5.65    6.05     1     1    o \n",
      " 11    6.57    7.19    6.77    7.20     1     1    o \n",
      " 12    6.65    7.24    6.87    7.27     1     1    o \n",
      " 13    5.94    6.38    6.10    6.43     1     1    o \n",
      " 14    5.66    6.09    5.91    6.17     1     1    o \n",
      " 15    6.17    6.60    6.31    6.68     1     1    o \n",
      " 16    6.78    7.35    6.96    7.41     1     1    o \n",
      " 17    5.73    6.35    6.00    6.45     1     1    o \n",
      " 18    5.50    6.02    5.77    6.11     1     1    o \n",
      " 19    5.50    6.12    5.79    6.20     1     1    o \n",
      " 20    5.39    6.04    5.63    6.10     1     1    o \n",
      " 21    5.19    4.31    4.87    4.33     2     2    o \n",
      " 22    6.42    5.95    6.29    6.00     2     2    o \n",
      " 23    6.27    5.65    6.08    5.68     2     2    o \n",
      " 24    6.04    5.59    5.72    5.72     2     2    o \n",
      " 25    5.73    5.05    5.48    5.09     2     2    o \n",
      " 26    6.07    5.76    5.87    5.81     2     2    o \n",
      " 27    6.45    5.95    6.25    6.00     2     2    o \n",
      " 28    6.55    6.19    6.45    6.17     4     2    x \n",
      " 29    6.36    5.81    6.14    5.82     2     2    o \n",
      " 30    6.19    5.76    5.91    5.79     2     2    o \n",
      " 31    7.65    7.26    7.43    7.29     2     2    o \n",
      " 32    6.47    5.85    6.27    5.85     4     2    x \n",
      " 33    6.78    6.46    6.63    6.53     2     2    o \n",
      " 34    5.88    5.24    5.68    5.27     2     2    o \n",
      " 35    6.51    6.09    6.25    6.15     2     2    o \n",
      " 36    5.98    5.40    5.75    5.46     2     2    o \n",
      " 37    7.41    6.82    7.17    6.84     2     2    o \n",
      " 38    6.13    5.49    5.92    5.55     2     2    o \n",
      " 39    5.33    4.81    5.18    4.91     2     2    o \n",
      " 40    7.24    6.84    7.04    6.85     2     2    o \n",
      " 41    6.32    6.30    6.06    6.35     3     3    o \n",
      " 42    5.70    5.74    5.43    5.77     3     3    o \n",
      " 43    6.51    6.50    6.22    6.51     3     3    o \n",
      " 44    6.15    6.33    5.93    6.38     3     3    o \n",
      " 45    6.32    6.28    6.07    6.36     3     3    o \n",
      " 46    5.69    5.70    5.37    5.78     3     3    o \n",
      " 47    6.23    6.52    6.10    6.58     3     3    o \n",
      " 48    6.45    6.77    6.40    6.83     3     3    o \n",
      " 49    6.66    6.71    6.35    6.76     3     3    o \n",
      " 50    5.98    6.10    5.72    6.16     3     3    o \n",
      " 51    6.83    6.96    6.63    7.00     3     3    o \n",
      " 52    6.37    6.18    6.04    6.23     3     3    o \n",
      " 53    6.27    6.57    6.16    6.65     3     3    o \n",
      " 54    6.60    6.74    6.47    6.82     3     3    o \n",
      " 55    6.18    6.12    5.81    6.18     3     3    o \n",
      " 56    6.05    6.31    5.91    6.37     3     3    o \n",
      " 57    5.77    5.94    5.46    5.97     3     3    o \n",
      " 58    6.92    6.99    6.70    7.05     3     3    o \n",
      " 59    5.71    5.97    5.52    6.04     3     3    o \n",
      " 60    5.57    5.51    5.15    5.56     3     3    o \n",
      " 61    5.43    4.71    5.15    4.64     4     4    o \n",
      " 62    7.11    6.60    6.89    6.60     4     4    o \n",
      " 63    6.53    5.90    6.29    5.87     4     4    o \n",
      " 64    6.48    5.92    6.21    5.91     4     4    o \n",
      " 65    6.17    5.55    5.92    5.49     4     4    o \n",
      " 66    5.88    5.34    5.57    5.26     4     4    o \n",
      " 67    6.88    6.20    6.61    6.22     2     4    x \n",
      " 68    6.89    6.48    6.72    6.46     4     4    o \n",
      " 69    5.80    5.30    5.63    5.25     4     4    o \n",
      " 70    6.08    5.44    5.86    5.44     2     4    x \n",
      " 71    7.84    7.33    7.59    7.32     4     4    o \n",
      " 72    6.68    6.16    6.44    6.12     4     4    o \n",
      " 73    7.00    6.63    6.78    6.61     4     4    o \n",
      " 74    6.41    5.69    6.13    5.62     4     4    o \n",
      " 75    6.92    6.35    6.62    6.36     2     4    x \n",
      " 76    6.26    5.82    6.06    5.80     4     4    o \n",
      " 77    7.42    7.07    7.27    7.11     2     4    x \n",
      " 78    5.32    4.45    5.00    4.40     4     4    o \n",
      " 79    5.49    4.83    5.25    4.80     4     4    o \n",
      " 80    7.97    7.85    7.86    7.82     4     4    o \n",
      "------- recog. rate = 92.50 --------\n"
     ]
    },
    {
     "data": {
      "text/plain": [
       "92.5"
      ]
     },
     "execution_count": 16,
     "metadata": {},
     "output_type": "execute_result"
    }
   ],
   "source": [
    "# 識別率の測定\n",
    "met_euclid_lda, result_euclid_lda = euclid(moji_a_lda, moji_ba_lda, moji_ka_lda, moji_pa_lda, moji_test_lda)\n",
    "print_result(met_euclid_lda, result_euclid_lda, moji_test_lda, moji_test_label, print_all=True,\n",
    "             output_path='result/moji_lda_euclid.txt')"
   ]
  },
  {
   "cell_type": "markdown",
   "metadata": {},
   "source": [
    "## 主成分分析"
   ]
  },
  {
   "cell_type": "code",
   "execution_count": 17,
   "metadata": {
    "collapsed": true
   },
   "outputs": [],
   "source": [
    "def pca(class1, class2, class3, class4):\n",
    "    X = np.concatenate([class1, class2, class3, class4], axis=0)\n",
    "    m = np.mean(X, axis=0)\n",
    "    C = np.cov(X.T)\n",
    "    lam, V = la.eig(C)\n",
    "    return (m, lam, V)"
   ]
  },
  {
   "cell_type": "code",
   "execution_count": 18,
   "metadata": {
    "collapsed": true
   },
   "outputs": [],
   "source": [
    "def plot_pca(data, label):\n",
    "    plt.scatter(data[:,0][label==1], data[:,1][label==1], label='a')\n",
    "    plt.scatter(data[:,0][label==2], data[:,1][label==2], label='ba')\n",
    "    plt.scatter(data[:,0][label==3], data[:,1][label==3], label='ka')\n",
    "    plt.scatter(data[:,0][label==4], data[:,1][label==4], label='pa')\n",
    "    axis = plt.axis()\n",
    "    _, _, ymin, ymax = axis\n",
    "    plt.xlim(axis[:2])\n",
    "    plt.ylim(axis[2:])\n",
    "    plt.legend()\n",
    "    plt.title('PCA')"
   ]
  },
  {
   "cell_type": "code",
   "execution_count": 19,
   "metadata": {
    "scrolled": true
   },
   "outputs": [
    {
     "name": "stdout",
     "output_type": "stream",
     "text": [
      "(80, 256)\n",
      "(180, 256)\n",
      "(180, 256)\n",
      "(180, 256)\n",
      "(180, 256)\n"
     ]
    }
   ],
   "source": [
    "m, _, X_pca = pca(moji_a, moji_ba, moji_ka, moji_pa)\n",
    "moji_test_pca = (moji_test - m).dot(X_pca)\n",
    "moji_a_pca = (moji_a - m).dot(X_pca)\n",
    "moji_ba_pca = (moji_ba - m).dot(X_pca)\n",
    "moji_ka_pca = (moji_ka - m).dot(X_pca)\n",
    "moji_pa_pca = (moji_pa - m).dot(X_pca)\n",
    "print(moji_test_pca.shape)\n",
    "print(moji_a_pca.shape)\n",
    "print(moji_ba_pca.shape)\n",
    "print(moji_ka_pca.shape)\n",
    "print(moji_pa_pca.shape)"
   ]
  },
  {
   "cell_type": "code",
   "execution_count": 20,
   "metadata": {
    "scrolled": false
   },
   "outputs": [
    {
     "name": "stdout",
     "output_type": "stream",
     "text": [
      "NUM    MET1    MET2   MET3   MET4   RES   ANS  o/x\n",
      "--------------------------------------------------\n",
      "  1    5.23    9.50    7.99    9.77     1     1    o \n",
      "  2    7.48    8.89    8.40    9.16     1     1    o \n",
      "  3    6.31    9.01    7.91    9.23     1     1    o \n",
      "  4    5.54    9.09    8.08    9.33     1     1    o \n",
      "  5    6.16    9.09    7.53    9.37     1     1    o \n",
      "  6    6.28    9.24    8.12    9.42     1     1    o \n",
      "  7    5.93    9.25    8.24    9.51     1     1    o \n",
      "  8    5.60    9.16    8.31    9.39     1     1    o \n",
      "  9    5.48    9.08    7.67    9.41     1     1    o \n",
      " 10    5.25    9.06    7.89    9.35     1     1    o \n",
      " 11    6.83    9.71    8.31    9.89     1     1    o \n",
      " 12    6.65    9.53    7.67    9.71     1     1    o \n",
      " 13    5.91    8.92    7.40    9.15     1     1    o \n",
      " 14    6.17    8.30    7.53    8.58     1     1    o \n",
      " 15    6.17    8.83    8.10    8.94     1     1    o \n",
      " 16    7.02    9.41    7.88    9.66     1     1    o \n",
      " 17    5.98    9.51    8.14    9.75     1     1    o \n",
      " 18    5.56    9.30    8.16    9.59     1     1    o \n",
      " 19    5.94    9.33    8.03    9.59     1     1    o \n",
      " 20    5.26    9.36    7.38    9.65     1     1    o \n",
      " 21    9.27    4.75    7.84    4.84     2     2    o \n",
      " 22    8.88    6.03    8.10    6.23     2     2    o \n",
      " 23    8.96    5.63    8.16    5.98     2     2    o \n",
      " 24    8.83    5.88    7.41    6.26     2     2    o \n",
      " 25    8.88    5.06    7.39    5.37     2     2    o \n",
      " 26    8.47    6.19    7.41    6.37     2     2    o \n",
      " 27    8.72    6.40    7.70    6.48     2     2    o \n",
      " 28    8.76    6.69    7.90    6.37     4     2    x \n",
      " 29    8.94    6.13    8.01    6.10     4     2    x \n",
      " 30    8.88    6.19    6.84    6.17     4     2    x \n",
      " 31    8.89    7.48    7.80    7.62     2     2    o \n",
      " 32    9.49    6.36    8.19    6.22     4     2    x \n",
      " 33    9.21    6.88    7.60    7.00     2     2    o \n",
      " 34    8.74    5.54    8.49    5.64     2     2    o \n",
      " 35    9.45    6.21    7.62    6.29     2     2    o \n",
      " 36    8.87    5.43    7.87    5.40     4     2    x \n",
      " 37    9.36    6.07    8.72    6.17     2     2    o \n",
      " 38    8.89    5.55    7.80    5.66     2     2    o \n",
      " 39    8.33    4.96    7.44    5.31     2     2    o \n",
      " 40    9.39    7.05    8.25    7.23     2     2    o \n",
      " 41    8.83    7.53    6.34    7.54     3     3    o \n",
      " 42    7.57    7.54    5.21    7.73     3     3    o \n",
      " 43    8.14    8.41    6.49    8.48     3     3    o \n",
      " 44    6.69    8.18    6.26    8.46     3     3    o \n",
      " 45    8.74    8.04    5.84    8.16     3     3    o \n",
      " 46    8.71    7.92    5.96    7.89     3     3    o \n",
      " 47    7.46    8.54    6.29    8.71     3     3    o \n",
      " 48    6.87    8.76    6.99    8.78     1     3    x \n",
      " 49    8.96    7.80    6.88    7.93     3     3    o \n",
      " 50    7.96    8.16    5.60    8.29     3     3    o \n",
      " 51    8.17    8.60    6.73    8.80     3     3    o \n",
      " 52    8.33    7.52    6.71    7.43     3     3    o \n",
      " 53    8.31    8.75    6.65    8.98     3     3    o \n",
      " 54    8.53    8.29    6.90    8.43     3     3    o \n",
      " 55    8.47    8.11    6.12    8.26     3     3    o \n",
      " 56    7.41    8.33    6.12    8.59     3     3    o \n",
      " 57    8.18    8.19    5.78    8.32     3     3    o \n",
      " 58    7.56    8.67    6.49    8.90     3     3    o \n",
      " 59    7.23    8.56    5.96    8.80     3     3    o \n",
      " 60    8.24    7.37    5.51    7.58     3     3    o \n",
      " 61    9.29    5.05    8.06    4.91     4     4    o \n",
      " 62    9.31    6.82    8.55    6.70     4     4    o \n",
      " 63    9.26    5.67    7.94    5.69     2     4    x \n",
      " 64    9.02    6.70    7.50    6.56     4     4    o \n",
      " 65    9.09    6.12    7.65    5.90     4     4    o \n",
      " 66    9.01    5.88    7.80    5.43     4     4    o \n",
      " 67    9.19    6.09    8.36    6.07     4     4    o \n",
      " 68    9.08    6.33    8.12    6.06     4     4    o \n",
      " 69    9.19    5.80    8.44    5.61     4     4    o \n",
      " 70    9.29    5.68    7.80    5.51     4     4    o \n",
      " 71    8.72    7.30    7.88    7.42     2     4    x \n",
      " 72    8.91    7.27    7.50    6.97     4     4    o \n",
      " 73    9.36    7.58    7.90    7.36     4     4    o \n",
      " 74    9.26    5.85    8.46    5.61     4     4    o \n",
      " 75    9.63    6.70    7.94    6.53     4     4    o \n",
      " 76    9.16    6.42    8.29    6.30     4     4    o \n",
      " 77    9.19    6.82    8.45    6.98     2     4    x \n",
      " 78    9.43    4.84    8.09    4.70     4     4    o \n",
      " 79    8.85    5.24    8.25    5.11     4     4    o \n",
      " 80    9.68    8.80    8.72    8.63     4     4    o \n",
      "------- recog. rate = 88.75 --------\n"
     ]
    },
    {
     "data": {
      "text/plain": [
       "88.75"
      ]
     },
     "execution_count": 20,
     "metadata": {},
     "output_type": "execute_result"
    }
   ],
   "source": [
    "met_euclid_pca, result_euclid_pca = euclid(moji_a_pca, moji_ba_pca, moji_ka_pca, moji_pa_pca, moji_test_pca)\n",
    "print_result(met_euclid_pca, result_euclid_pca, moji_test_pca, moji_test_label, print_all=True,\n",
    "             output_path='result/moji_pca_euclid.txt')"
   ]
  },
  {
   "cell_type": "markdown",
   "metadata": {},
   "source": [
    "主成分分析に用いる変換行列は直交行列であるため、データどうしのユークリッド距離は変化しないから、主成分分析をせずにユークリッド距離を用いて判別した場合と同じ結果になるこの結果は正しい（線形判別分析に用いる変換行列は一般に直交行列ではないので判別分析をせずにユークリッド距離を用いて判別した場合と異なる結果になるという結果は正しい）。"
   ]
  },
  {
   "cell_type": "markdown",
   "metadata": {},
   "source": [
    "## (b) 判別分析において、写像後の学習データをプロットし、各軸の特性を考察せよ。 (※例えば、第1判別軸をX軸・第2判別軸をY軸のようにすればわかりやすい)"
   ]
  },
  {
   "cell_type": "markdown",
   "metadata": {},
   "source": [
    "判別分析を適用したデータについて、横軸（第一軸）に1次元目、縦軸（第二軸）に2次元目をとって散布図を作成したのが以下の図である。"
   ]
  },
  {
   "cell_type": "code",
   "execution_count": 21,
   "metadata": {
    "scrolled": false
   },
   "outputs": [
    {
     "data": {
      "image/png": "[encoded data removed]",
      "text/plain": [
       "<matplotlib.figure.Figure at 0x114781048>"
      ]
     },
     "metadata": {},
     "output_type": "display_data"
    }
   ],
   "source": [
    "# プロット\n",
    "plt.figure(figsize=(15,10))\n",
    "plot_lda(moji_test_lda, moji_test_label)\n",
    "plt.show()"
   ]
  },
  {
   "cell_type": "markdown",
   "metadata": {},
   "source": [
    "第一軸は主に「ば」と「ぱ」を区別する方向の射影になっており、第二軸は（「あ」）、（「か」）、（「ば」「ぱ」のグループ）を区別する方向の射影になっていることがわかる。\n",
    "\n",
    "同様に、主成分分析を適用したデータについて、横軸（第一軸）に1次元目、縦軸（第二軸）に2次元目をとって散布図を作成したのが以下の図である。"
   ]
  },
  {
   "cell_type": "code",
   "execution_count": 22,
   "metadata": {},
   "outputs": [
    {
     "data": {
      "image/png": "[encoded data removed]",
      "text/plain": [
       "<matplotlib.figure.Figure at 0x1142a3c18>"
      ]
     },
     "metadata": {},
     "output_type": "display_data"
    }
   ],
   "source": [
    "# プロット\n",
    "plt.figure(figsize=(15,10))\n",
    "plot_pca(moji_test_pca, moji_test_label)\n",
    "plt.show()"
   ]
  },
  {
   "cell_type": "markdown",
   "metadata": {},
   "source": [
    "主成分分析は分散が最大になる方向から順に分散が極大となる直交基底を選ぶ操作であるから、第一軸の分散のほうが第二軸の分散よりも大きくなっていることが見て取れる。主成分分析はそもそも各点のクラスを考慮するような仕組みになっていないから、（「あ」）、（「か」）、（「ば」と「ぱ」のグループ）がそれぞれ集まっているのはたまたまである（互いに似通った文字は互いのユークリッド距離が近いという、今回用いたデータ自体がもともと持っている特性である）。"
   ]
  },
  {
   "cell_type": "markdown",
   "metadata": {},
   "source": [
    "## (c) 判別分析・主成分分析それぞれにおいて、認識に用いる軸の数を変化させ、認識率の変動をプロッ トし、考察せよ。"
   ]
  },
  {
   "cell_type": "markdown",
   "metadata": {},
   "source": [
    "判別分析、主成分分析だけでなく、それらを適用する前の元の画像データにおいても認識に用いる軸の数を変化させて比較しなければならない。認識に用いる軸の数を増やすということは、元の画像においても線形変換後の画像においても、認識に用いる画素（正確には画素のパターン）を増やしていくことに等しい。したがって、元の画像においても軸の数を変化させていけば通常は認識率は徐々に増加（単調増加ではない）していくものであるが、これと比べても有用であることを示すべきである。また、重み付きユークリッド距離と主成分分析の関連についても触れたので、重み付きユークリッド距離を用いた場合についても比較しておく（重み付けたことで結果が改善するかどうかも興味深い検証の対象である）。"
   ]
  },
  {
   "cell_type": "code",
   "execution_count": 23,
   "metadata": {
    "scrolled": true
   },
   "outputs": [
    {
     "name": "stdout",
     "output_type": "stream",
     "text": [
      "[25.0, 26.25, 26.25, 26.25, 27.500000000000004, 33.75, 41.25, 42.5, 43.75, 46.25, 48.75, 48.75, 43.75, 58.75, 60.0, 58.75, 58.75, 58.75, 58.75, 58.75, 58.75, 65.0, 66.25, 65.0, 61.25000000000001, 60.0, 62.5, 63.74999999999999, 60.0, 57.49999999999999, 56.25, 58.75, 58.75, 58.75, 60.0, 58.75, 60.0, 62.5, 66.25, 68.75, 66.25, 71.25, 72.5, 71.25, 71.25, 72.5, 73.75, 72.5, 71.25, 71.25, 71.25, 70.0, 71.25, 72.5, 75.0, 76.25, 75.0, 73.75, 76.25, 76.25, 77.5, 77.5, 77.5, 75.0, 76.25, 75.0, 75.0, 73.75, 72.5, 73.75, 73.75, 75.0, 75.0, 75.0, 76.25, 75.0, 76.25, 73.75, 80.0, 83.75, 82.5, 82.5, 82.5, 82.5, 80.0, 81.25, 82.5, 82.5, 81.25, 83.75, 81.25, 82.5, 80.0, 82.5, 82.5, 82.5, 82.5, 82.5, 81.25, 82.5, 81.25, 83.75, 83.75, 83.75, 83.75, 83.75, 82.5, 85.0, 85.0, 83.75, 82.5, 81.25, 81.25, 81.25, 81.25, 82.5, 81.25, 83.75, 83.75, 86.25, 86.25, 86.25, 86.25, 86.25, 86.25, 85.0, 85.0, 85.0, 85.0, 85.0, 85.0, 86.25, 87.5, 87.5, 87.5, 88.75, 90.0, 90.0, 90.0, 90.0, 90.0, 90.0, 90.0, 88.75, 88.75, 88.75, 90.0, 90.0, 90.0, 88.75, 90.0, 90.0, 90.0, 90.0, 90.0, 90.0, 90.0, 90.0, 90.0, 90.0, 90.0, 90.0, 90.0, 88.75, 90.0, 90.0, 91.25, 91.25, 91.25, 91.25, 91.25, 91.25, 91.25, 91.25, 91.25, 91.25, 91.25, 91.25, 91.25, 91.25, 91.25, 91.25, 91.25, 91.25, 91.25, 90.0, 90.0, 90.0, 90.0, 91.25, 91.25, 91.25, 91.25, 91.25, 91.25, 91.25, 91.25, 91.25, 91.25, 91.25, 91.25, 90.0, 90.0, 90.0, 90.0, 91.25, 91.25, 91.25, 91.25, 90.0, 90.0, 90.0, 90.0, 91.25, 91.25, 91.25, 90.0, 90.0, 90.0, 90.0, 91.25, 91.25, 91.25, 91.25, 91.25, 91.25, 91.25, 91.25, 91.25, 91.25, 90.0, 88.75, 88.75, 88.75, 88.75, 88.75, 88.75, 88.75, 88.75, 88.75, 88.75, 88.75, 88.75, 88.75, 88.75, 88.75, 88.75, 88.75, 88.75, 88.75, 88.75, 88.75, 88.75, 88.75, 88.75]\n"
     ]
    }
   ],
   "source": [
    "# 元画像の識別率の測定\n",
    "recog_rate = []\n",
    "for i in range(1, 256):\n",
    "    met_euclid, result_euclid = euclid(moji_a[:,:i], moji_ba[:,:i],\n",
    "                                               moji_ka[:,:i], moji_pa[:,:i], moji_test[:,:i])\n",
    "    recog_rate.append(print_result(met_euclid, result_euclid, moji_test, moji_test_label,\n",
    "                                       print_all=False, print_rate=False))\n",
    "print(recog_rate)"
   ]
  },
  {
   "cell_type": "code",
   "execution_count": 24,
   "metadata": {},
   "outputs": [
    {
     "name": "stdout",
     "output_type": "stream",
     "text": [
      "[25.0, 26.25, 26.25, 26.25, 27.500000000000004, 33.75, 41.25, 42.5, 42.5, 41.25, 45.0, 46.25, 41.25, 53.75, 56.25, 56.25, 53.75, 55.00000000000001, 55.00000000000001, 55.00000000000001, 61.25000000000001, 62.5, 65.0, 66.25, 62.5, 61.25000000000001, 58.75, 60.0, 60.0, 57.49999999999999, 60.0, 56.25, 56.25, 58.75, 58.75, 57.49999999999999, 56.25, 62.5, 66.25, 65.0, 66.25, 66.25, 72.5, 72.5, 73.75, 73.75, 75.0, 76.25, 75.0, 75.0, 77.5, 72.5, 72.5, 75.0, 73.75, 71.25, 76.25, 78.75, 78.75, 78.75, 80.0, 78.75, 78.75, 80.0, 80.0, 78.75, 77.5, 78.75, 77.5, 76.25, 76.25, 76.25, 76.25, 76.25, 76.25, 76.25, 75.0, 71.25, 77.5, 78.75, 80.0, 82.5, 81.25, 80.0, 78.75, 80.0, 80.0, 81.25, 80.0, 81.25, 81.25, 81.25, 82.5, 82.5, 82.5, 85.0, 82.5, 82.5, 85.0, 87.5, 83.75, 85.0, 86.25, 85.0, 85.0, 85.0, 87.5, 88.75, 88.75, 88.75, 85.0, 85.0, 83.75, 82.5, 85.0, 83.75, 85.0, 86.25, 85.0, 86.25, 86.25, 86.25, 86.25, 85.0, 85.0, 85.0, 83.75, 83.75, 86.25, 83.75, 83.75, 85.0, 85.0, 85.0, 86.25, 86.25, 87.5, 87.5, 87.5, 87.5, 87.5, 87.5, 87.5, 87.5, 87.5, 87.5, 87.5, 87.5, 87.5, 87.5, 88.75, 87.5, 86.25, 86.25, 88.75, 88.75, 88.75, 88.75, 88.75, 88.75, 88.75, 88.75, 88.75, 88.75, 88.75, 88.75, 90.0, 90.0, 90.0, 90.0, 90.0, 90.0, 90.0, 90.0, 90.0, 90.0, 90.0, 90.0, 90.0, 90.0, 90.0, 90.0, 90.0, 90.0, 90.0, 88.75, 90.0, 90.0, 90.0, 90.0, 90.0, 90.0, 90.0, 90.0, 90.0, 90.0, 90.0, 90.0, 90.0, 90.0, 90.0, 90.0, 90.0, 88.75, 88.75, 88.75, 88.75, 88.75, 88.75, 90.0, 90.0, 88.75, 88.75, 88.75, 88.75, 88.75, 88.75, 87.5, 88.75, 88.75, 88.75, 88.75, 88.75, 88.75, 88.75, 88.75, 87.5, 87.5, 87.5, 87.5, 88.75, 88.75, 88.75, 90.0, 90.0, 90.0, 90.0, 90.0, 90.0, 90.0, 90.0, 90.0, 90.0, 90.0, 88.75, 88.75, 88.75, 87.5, 87.5, 88.75, 88.75, 88.75, 88.75, 88.75, 88.75]\n"
     ]
    }
   ],
   "source": [
    "# 元画像の識別率の測定（重み付きユークリッド距離）\n",
    "recog_rate_weighted = []\n",
    "for i in range(1, 256):\n",
    "    met_weighted_euclid, result_weighted_euclid = weighted_euclid(w[:i], moji_a[:,:i], moji_ba[:,:i],\n",
    "                                                                moji_ka[:,:i], moji_pa[:,:i], moji_test[:,:i])\n",
    "    recog_rate_weighted.append(print_result(met_weighted_euclid, result_weighted_euclid, moji_test, moji_test_label,\n",
    "                                            print_all=False, print_rate=False))\n",
    "print(recog_rate_weighted)"
   ]
  },
  {
   "cell_type": "code",
   "execution_count": 25,
   "metadata": {
    "scrolled": false
   },
   "outputs": [
    {
     "name": "stdout",
     "output_type": "stream",
     "text": [
      "[47.5, 87.5, 92.5, 92.5, 92.5, 92.5, 92.5, 92.5, 92.5, 92.5, 92.5, 92.5, 92.5, 92.5, 92.5, 92.5, 92.5, 92.5, 92.5, 92.5, 92.5, 92.5, 92.5, 92.5, 92.5, 92.5, 92.5, 92.5, 92.5, 92.5, 92.5, 92.5, 92.5, 92.5, 92.5, 92.5, 92.5, 92.5, 92.5, 92.5, 92.5, 92.5, 92.5, 92.5, 92.5, 92.5, 92.5, 92.5, 92.5, 92.5, 92.5, 92.5, 92.5, 92.5, 92.5, 92.5, 92.5, 92.5, 92.5, 92.5, 92.5, 92.5, 92.5, 92.5, 92.5, 92.5, 92.5, 92.5, 92.5, 92.5, 92.5, 92.5, 92.5, 92.5, 92.5, 92.5, 92.5, 92.5, 92.5, 92.5, 92.5, 92.5, 92.5, 92.5, 92.5, 92.5, 92.5, 92.5, 92.5, 92.5, 92.5, 92.5, 92.5, 92.5, 92.5, 92.5, 92.5, 92.5, 92.5, 92.5, 92.5, 92.5, 92.5, 92.5, 92.5, 92.5, 92.5, 92.5, 92.5, 92.5, 92.5, 92.5, 92.5, 92.5, 92.5, 92.5, 92.5, 92.5, 92.5, 92.5, 92.5, 92.5, 92.5, 92.5, 92.5, 92.5, 92.5, 92.5, 92.5, 92.5, 92.5, 92.5, 92.5, 92.5, 92.5, 92.5, 92.5, 92.5, 92.5, 92.5, 92.5, 92.5, 92.5, 92.5, 92.5, 92.5, 92.5, 92.5, 92.5, 92.5, 92.5, 92.5, 92.5, 92.5, 92.5, 92.5, 92.5, 92.5, 92.5, 92.5, 92.5, 92.5, 92.5, 92.5, 92.5, 92.5, 92.5, 92.5, 92.5, 92.5, 92.5, 92.5, 92.5, 92.5, 92.5, 92.5, 92.5, 92.5, 92.5, 92.5, 92.5, 92.5, 92.5, 92.5, 92.5, 92.5, 92.5, 92.5, 92.5, 92.5, 92.5, 92.5, 92.5, 92.5, 92.5, 92.5, 92.5, 92.5, 92.5, 92.5, 92.5, 92.5, 92.5, 92.5, 92.5, 92.5, 92.5, 92.5, 92.5, 92.5, 92.5, 92.5, 92.5, 92.5, 92.5, 92.5, 92.5, 92.5, 92.5, 92.5, 92.5, 92.5, 92.5, 92.5, 92.5, 92.5, 92.5, 92.5, 92.5, 92.5, 92.5, 92.5, 92.5, 92.5, 92.5, 92.5, 92.5, 92.5, 92.5, 92.5, 92.5, 92.5, 92.5, 92.5, 92.5, 92.5, 92.5, 92.5, 92.5, 92.5, 92.5, 92.5, 92.5, 92.5, 92.5]\n"
     ]
    }
   ],
   "source": [
    "# 判別分析後の識別率の測定\n",
    "recog_rate_lda = []\n",
    "for i in range(1, 256):\n",
    "    met_euclid_lda, result_euclid_lda = euclid(moji_a_lda[:,:i], moji_ba_lda[:,:i],\n",
    "                                               moji_ka_lda[:,:i], moji_pa_lda[:,:i], moji_test_lda[:,:i])\n",
    "    recog_rate_lda.append(print_result(met_euclid_lda, result_euclid_lda, moji_test_lda, moji_test_label,\n",
    "                                       print_all=False, print_rate=False))\n",
    "print(recog_rate_lda)"
   ]
  },
  {
   "cell_type": "code",
   "execution_count": 26,
   "metadata": {},
   "outputs": [
    {
     "name": "stdout",
     "output_type": "stream",
     "text": [
      "[73.75, 77.5, 78.75, 78.75, 80.0, 81.25, 78.75, 77.5, 81.25, 82.5, 85.0, 82.5, 80.0, 80.0, 80.0, 81.25, 81.25, 82.5, 85.0, 83.75, 86.25, 86.25, 86.25, 86.25, 86.25, 86.25, 86.25, 86.25, 86.25, 86.25, 86.25, 86.25, 87.5, 88.75, 88.75, 88.75, 88.75, 88.75, 88.75, 88.75, 88.75, 88.75, 88.75, 88.75, 88.75, 88.75, 88.75, 88.75, 88.75, 88.75, 88.75, 88.75, 88.75, 88.75, 88.75, 88.75, 88.75, 88.75, 88.75, 88.75, 88.75, 88.75, 88.75, 88.75, 88.75, 88.75, 88.75, 88.75, 88.75, 88.75, 88.75, 88.75, 88.75, 88.75, 88.75, 88.75, 88.75, 88.75, 88.75, 88.75, 88.75, 88.75, 88.75, 88.75, 88.75, 88.75, 88.75, 88.75, 88.75, 88.75, 88.75, 88.75, 88.75, 88.75, 88.75, 88.75, 88.75, 88.75, 88.75, 88.75, 88.75, 88.75, 88.75, 88.75, 88.75, 88.75, 88.75, 88.75, 88.75, 88.75, 88.75, 88.75, 88.75, 88.75, 88.75, 88.75, 88.75, 88.75, 88.75, 88.75, 88.75, 88.75, 88.75, 88.75, 88.75, 88.75, 88.75, 88.75, 88.75, 88.75, 88.75, 88.75, 88.75, 88.75, 88.75, 88.75, 88.75, 88.75, 88.75, 88.75, 88.75, 88.75, 88.75, 88.75, 88.75, 88.75, 88.75, 88.75, 88.75, 88.75, 88.75, 88.75, 88.75, 88.75, 88.75, 88.75, 88.75, 88.75, 88.75, 88.75, 88.75, 88.75, 88.75, 88.75, 88.75, 88.75, 88.75, 88.75, 88.75, 88.75, 88.75, 88.75, 88.75, 88.75, 88.75, 88.75, 88.75, 88.75, 88.75, 88.75, 88.75, 88.75, 88.75, 88.75, 88.75, 88.75, 88.75, 88.75, 88.75, 88.75, 88.75, 88.75, 88.75, 88.75, 88.75, 88.75, 88.75, 88.75, 88.75, 88.75, 88.75, 88.75, 88.75, 88.75, 88.75, 88.75, 88.75, 88.75, 88.75, 88.75, 88.75, 88.75, 88.75, 88.75, 88.75, 88.75, 88.75, 88.75, 88.75, 88.75, 88.75, 88.75, 88.75, 88.75, 88.75, 88.75, 88.75, 88.75, 88.75, 88.75, 88.75, 88.75, 88.75, 88.75, 88.75, 88.75, 88.75, 88.75, 88.75, 88.75, 88.75, 88.75, 88.75, 88.75, 88.75, 88.75, 88.75, 88.75, 88.75, 88.75, 88.75, 88.75, 88.75, 88.75, 88.75]\n"
     ]
    }
   ],
   "source": [
    "# 主成分分析後の識別率の測定\n",
    "recog_rate_pca = []\n",
    "for i in range(1, 256):\n",
    "    met_euclid_pca, result_euclid_pca = euclid(moji_a_pca[:,:i], moji_ba_pca[:,:i],\n",
    "                                               moji_ka_pca[:,:i], moji_pa_pca[:,:i], moji_test_pca[:,:i])\n",
    "    recog_rate_pca.append(print_result(met_euclid_pca, result_euclid_pca, moji_test_pca, moji_test_label,\n",
    "                                   print_all=False, print_rate=False))\n",
    "print(recog_rate_pca)"
   ]
  },
  {
   "cell_type": "code",
   "execution_count": 27,
   "metadata": {
    "scrolled": false
   },
   "outputs": [
    {
     "data": {
      "image/png": "[encoded data removed]",
      "text/plain": [
       "<matplotlib.figure.Figure at 0x113b1d710>"
      ]
     },
     "metadata": {},
     "output_type": "display_data"
    }
   ],
   "source": [
    "plt.figure(figsize=(16,16))\n",
    "plt.subplot(2,2,1)\n",
    "plt.plot(recog_rate)\n",
    "plt.title('original')\n",
    "plt.xlim([-5,260])\n",
    "plt.ylim([0,100])\n",
    "plt.xlabel('dimension')\n",
    "plt.ylabel('recognition rate[%]')\n",
    "plt.subplot(2,2,2)\n",
    "plt.plot(recog_rate_weighted)\n",
    "plt.title('weighted euclid')\n",
    "plt.xlim([-5,260])\n",
    "plt.ylim([0,100])\n",
    "plt.xlabel('dimension')\n",
    "plt.ylabel('recognition rate[%]')\n",
    "plt.subplot(2,2,3)\n",
    "plt.plot(recog_rate_lda)\n",
    "plt.title('LDA')\n",
    "plt.xlim([-5,260])\n",
    "plt.ylim([0,100])\n",
    "plt.xlabel('dimension')\n",
    "plt.ylabel('recognition rate[%]')\n",
    "plt.subplot(2,2,4)\n",
    "plt.plot(recog_rate_pca)\n",
    "plt.title('PCA')\n",
    "plt.xlim([-5,260])\n",
    "plt.ylim([0,100])\n",
    "plt.xlabel('dimension')\n",
    "plt.ylabel('recognition rate[%]')\n",
    "plt.show()"
   ]
  },
  {
   "cell_type": "markdown",
   "metadata": {},
   "source": [
    "### ユークリッド距離・重み付きユークリッド距離\n",
    "元画像で左上から順に軸（画素数）を増やした場合、ユークリッド距離も重み付きユークリッド距離も定性的・定量的にあまり違いはなく、画素数の増加にしたがって認識率は改善していく（単調増加ではない）。文字は画像の中心近くに多くの情報が含まれるため、次元は160〜230のあたりで最大となる。それ以上次元を大きくすると結果は逆に悪化しているが、画像右下の部分は識別にはなんら寄与しせずむしろノイズとなっていることを示唆している（もっとも、これは左上から順に操作したことにも起因しているので、その他の画素が同様に識別に寄与しない可能性もある。どの画素が識別に寄与しているかは線形判別分析の基底を見れば分かる）。定量的には、今回は重み付きユークリッド距離のほうが認識率の最大値が1.25%小さい。これは今回用いた重みでの重み付きユークリッド距離が有用な評価基準にはならなかったことを示しており、その原因は共分散を考慮しない正規化を行なったためであると考えられる。\n",
    "\n",
    "### 判別分析\n",
    "判別分析によって得られた基底を用いると、第三軸まででほぼ最大値に到達しており、その他の軸は判別を行う上で結果にほとんど寄与していないことがわかる。もとが256次元であったことを考えるとデータ量を約1.2%まで圧縮した優秀な次元削減となっている。第三軸までの基底を画像として表示すると以下のようになる。"
   ]
  },
  {
   "cell_type": "code",
   "execution_count": 28,
   "metadata": {
    "scrolled": true
   },
   "outputs": [
    {
     "data": {
      "image/png": "[encoded data removed]",
      "text/plain": [
       "<matplotlib.figure.Figure at 0x113c5f710>"
      ]
     },
     "metadata": {},
     "output_type": "display_data"
    }
   ],
   "source": [
    "plt.figure(figsize=(12,4))\n",
    "plt.subplot(1,3,1)\n",
    "plt.imshow(X_lda[:,0].reshape(16,16), vmin=-0.05, vmax=0.05)\n",
    "plt.subplot(1,3,2)\n",
    "plt.imshow(X_lda[:,1].reshape(16,16), vmin=-0.05, vmax=0.05)\n",
    "plt.subplot(1,3,3)\n",
    "plt.imshow(X_lda[:,2].reshape(16,16), vmin=-0.05, vmax=0.05)\n",
    "plt.show()"
   ]
  },
  {
   "cell_type": "markdown",
   "metadata": {},
   "source": [
    "人間にとっては解釈が難しい基底となっている。\n",
    "\n",
    "### 主成分分析\n",
    "主成分分析では第一軸から第34軸までで認識率がおおよそ最大値に達している。直交変換なのでユークリッド距離を用いた判別基準においては識別率は変わらないが、もとが256次元であったことを考えると、約13%にまで圧縮されており、教師なしの次元削減としての機能は果たしている。第34軸まですべてを表示すると冗長なので、第九軸までを表示しておおよその傾向は掴むことにする。"
   ]
  },
  {
   "cell_type": "code",
   "execution_count": 29,
   "metadata": {},
   "outputs": [
    {
     "data": {
      "image/png": "[encoded data removed]",
      "text/plain": [
       "<matplotlib.figure.Figure at 0x11805c358>"
      ]
     },
     "metadata": {},
     "output_type": "display_data"
    }
   ],
   "source": [
    "plt.figure(figsize=(12,12))\n",
    "plt.subplot(3,3,1)\n",
    "plt.imshow(X_pca[:,0].reshape(16,16), vmin=-0.05, vmax=0.05)\n",
    "plt.subplot(3,3,2)\n",
    "plt.imshow(X_pca[:,1].reshape(16,16), vmin=-0.05, vmax=0.05)\n",
    "plt.subplot(3,3,3)\n",
    "plt.imshow(X_pca[:,2].reshape(16,16), vmin=-0.05, vmax=0.05)\n",
    "plt.subplot(3,3,4)\n",
    "plt.imshow(X_pca[:,3].reshape(16,16), vmin=-0.05, vmax=0.05)\n",
    "plt.subplot(3,3,5)\n",
    "plt.imshow(X_pca[:,4].reshape(16,16), vmin=-0.05, vmax=0.05)\n",
    "plt.subplot(3,3,6)\n",
    "plt.imshow(X_pca[:,5].reshape(16,16), vmin=-0.05, vmax=0.05)\n",
    "plt.subplot(3,3,7)\n",
    "plt.imshow(X_pca[:,6].reshape(16,16), vmin=-0.05, vmax=0.05)\n",
    "plt.subplot(3,3,8)\n",
    "plt.imshow(X_pca[:,7].reshape(16,16), vmin=-0.05, vmax=0.05)\n",
    "plt.subplot(3,3,9)\n",
    "plt.imshow(X_pca[:,8].reshape(16,16), vmin=-0.05, vmax=0.05)\n",
    "plt.show()"
   ]
  },
  {
   "cell_type": "markdown",
   "metadata": {},
   "source": [
    "主成分分析は元データの分散を最大にする方向ベクトルを取得するから、定性的には「すべての信号にもっとも頻繁に強く含まれる信号成分」のようなものを抽出している。すなわち「あ」「ば」「か」「ぱ」のすべての手書き教師データを集めたとき、もっとも多く重なっている画素を抽出するような基底を選んでくる。実際に一番左上の第一主成分を見ると、「あ」「ば」「か」「ぱ」のいずれにも重なりそうな部分が大きい値を取っている（黄色に着色されている）。"
   ]
  },
  {
   "cell_type": "markdown",
   "metadata": {},
   "source": [
    "## (d) [発展課題] 文字画像データの特徴を考え、前回の 2 次元データとの違いを考察せよ。\n",
    "人間がデータを扱う上で大きな問題となるのはその次元である。人間は普通は3次元までしか空間的に把握することができないため、文字画像データのように大きな次元を持つデータを扱う場合、それをユークリッド空間上にプロットして空間上での分布を眺めることはできない（あるいは今回用いた判別分析・主成分分析などによる次元圧縮を用いて工夫して可視化せねばならない）。そのためデータの高次元の構造を直感的に把握することができず、モデル構築には実際にデータをプロットしてみる以外のアプローチが必要となる。\n",
    "\n",
    "文字画像データと、ほぼガウス分布にしたがってランダムに生成された（かどうかは記述がなかったため不明だが、そのように見受けられた）ような前回の２次元データはもともと各確率変数間の相関は小さいが、今回用いたような文字画像データでは、任意の点はそれに隣接した点と強い相関を持つ。そのため、単に重み付きユークリッド距離を取るような操作は各確率変数に対して数学的に妥当性のないでたらめな操作（相関を無視して事前分布をいじるような操作）を行うことに等しい。主成分分析をして各確率変数間の相関を0にしてから重み付きユークリッド距離を取るのであれば、これは白色化に近い操作であって、まだ妥当な操作になる（ZCA Whiteningなど）。\n",
    "\n",
    "また、文字データの特徴は、単なる２次元データにはない「形状」の情報を持っているということである。ユークリッド距離やコサイン類似度などは単に画素の重なり具合を見ているだけであって、形状の差異は距離尺度に反映されない（たとえば今回であれば、濁点と半濁点は本来なら「二本の線分」と「丸」という形状的には大きく異なるものであるが、形状の差異に着目するような目的関数は設定されていないためしばしば誤分類の原因となっている）。形状を抽出するには普通はフィルタ処理やCNNを用いる。"
   ]
  },
  {
   "cell_type": "markdown",
   "metadata": {},
   "source": [
    "# 3. パターン認識論について"
   ]
  },
  {
   "cell_type": "markdown",
   "metadata": {},
   "source": [
    "## (a) 今までのすべての結果から各手法の長所短所を示し、それについて考察せよ。\n",
    "## 判別評価基準\n",
    "### Nearest Neighbor\n",
    "* 長所: 複雑な決定境界を持つことができる。\n",
    "* 短所: 分布が混ざるような部分での認識率が悪化する。\n",
    "\n",
    "### ユークリッド距離\n",
    "* 長所: ベクトルのノルムと方向を合わせたような距離尺度になっている（方向よりはむしろノルムの影響を強く受ける）。\n",
    "* 短所: ベクトルのノルムよりも方向が重要な場合にうまく機能しない。\n",
    "\n",
    "### コサイン類似度\n",
    "* 長所: データの相関を取ることとほぼ同義なので、ベクトルのノルムによらず、同じ方向を向いているものを近いものとみなすことができる。\n",
    "* 短所: ベクトルの方向よりもノルムが重要な場合にうまく機能しない。\n",
    "\n",
    "### 重み付きユークリッド距離\n",
    "* 長所: おそらくない（観測する単位を変えることと大差がないし、マハラノビス距離ならともかくとして使っているのを見たことがない）。\n",
    "* 短所: あまり使う意味がない。\n",
    "\n",
    "## 判別分析\n",
    "* 長所: 教師データにラベルが付与されているとき、その情報を反映して（主成分分析に比べて）識別に有利な写像を学習できる。\n",
    "* 短所: クラス間分散の分散共分散行列が正定値対称行列にならない場合に解くのが困難。データ数が少ないとき未知データの外挿に対して妥当性が保証されにくい。\n",
    "\n",
    "## 主成分分析\n",
    "* 長所: 教師データにラベルが付与されていなくても使用できる。\n",
    "* 短所: 分散が最大の方向が識別に有利な写像を与えるとは限らない。\n"
   ]
  },
  {
   "cell_type": "markdown",
   "metadata": {},
   "source": [
    "## (b) 現在はまだ実用化されていないが、今後新しくパターン認識技術を用いて何ができるか自分で考え、説明せよ。\n",
    "「パターン認識技術」の定義および適用領域が不明確であり回答できない。"
   ]
  },
  {
   "cell_type": "markdown",
   "metadata": {},
   "source": [
    "## (c) [授業評価] 本講義の難易度ついて、またレポート課題について感じたことを述べよ。また、理解に苦しんだ項目があればそれについても述べよ。\n",
    "理解に苦しんだ項目：上の設問(b)\n",
    "\n",
    "「パターン認識技術」を回答可能な具体性を持って定義するか、あるいはいくつかの具体例を列挙することでもって、修正するようお願いいたします。何をもって「パターン」と呼ぶのか（たとえば課題で扱ったような「基底」をパターンと呼んでいるのかどうか）、データの背後にはパターンが存在するのか（確率的なデータにはパターンは仮定されません）、存在するとしてそれを取り出すことができるのか、といったことは自明ではなく、問題とデータが与えられてからモデルとアルゴリズムを考えるものです。特に「実用化されていないが、新しく」というデータの背後にパターンが存在するかどうかは、検証してみないとわかりません。なぜならば実用化されていないからです。「理論的にはパターンが存在することになっているが、計算機やセンサの能力、倫理的な問題などによって未だ実用化には至っていない」ということをおっしゃっているのですか？"
   ]
  }
 ],
 "metadata": {
  "kernelspec": {
   "display_name": "Python 3",
   "language": "python",
   "name": "python3"
  },
  "language_info": {
   "codemirror_mode": {
    "name": "ipython",
    "version": 3
   },
   "file_extension": ".py",
   "mimetype": "text/x-python",
   "name": "python",
   "nbconvert_exporter": "python",
   "pygments_lexer": "ipython3",
   "version": "3.6.3"
  }
 },
 "nbformat": 4,
 "nbformat_minor": 2
}
